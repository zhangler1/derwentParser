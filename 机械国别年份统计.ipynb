{
 "cells": [
  {
   "cell_type": "code",
   "execution_count": 7,
   "metadata": {},
   "outputs": [
    {
     "data": {
      "text/html": [
       "<div>\n",
       "<style scoped>\n",
       "    .dataframe tbody tr th:only-of-type {\n",
       "        vertical-align: middle;\n",
       "    }\n",
       "\n",
       "    .dataframe tbody tr th {\n",
       "        vertical-align: top;\n",
       "    }\n",
       "\n",
       "    .dataframe thead th {\n",
       "        text-align: right;\n",
       "    }\n",
       "</style>\n",
       "<table border=\"1\" class=\"dataframe\">\n",
       "  <thead>\n",
       "    <tr style=\"text-align: right;\">\n",
       "      <th></th>\n",
       "      <th>Title</th>\n",
       "      <th>PatentNumber</th>\n",
       "      <th>publishDate</th>\n",
       "      <th>language</th>\n",
       "      <th>pages</th>\n",
       "      <th>region</th>\n",
       "      <th>na</th>\n",
       "    </tr>\n",
       "  </thead>\n",
       "  <tbody>\n",
       "    <tr>\n",
       "      <th>0</th>\n",
       "      <td>Hybrid winch drive system has power generatin...</td>\n",
       "      <td>KR2011074434-A</td>\n",
       "      <td>2011.0</td>\n",
       "      <td>NaN</td>\n",
       "      <td>4.0</td>\n",
       "      <td>World</td>\n",
       "      <td>KR</td>\n",
       "    </tr>\n",
       "    <tr>\n",
       "      <th>1</th>\n",
       "      <td>Apparatus for regenerating hydraulic oil, has...</td>\n",
       "      <td>JP2011162655-A</td>\n",
       "      <td>2011.0</td>\n",
       "      <td>Japanese</td>\n",
       "      <td>2.0</td>\n",
       "      <td>World</td>\n",
       "      <td>JP</td>\n",
       "    </tr>\n",
       "    <tr>\n",
       "      <th>2</th>\n",
       "      <td>Snow sweeping vehicle for use in e.g. road, h...</td>\n",
       "      <td>CN201924308-U</td>\n",
       "      <td>2011.0</td>\n",
       "      <td>Chinese</td>\n",
       "      <td>0.0</td>\n",
       "      <td>China</td>\n",
       "      <td>CN</td>\n",
       "    </tr>\n",
       "    <tr>\n",
       "      <th>3</th>\n",
       "      <td>Universal oil opening connecting flange set, ...</td>\n",
       "      <td>CN201963644-U</td>\n",
       "      <td>2011.0</td>\n",
       "      <td>Chinese</td>\n",
       "      <td>7.0</td>\n",
       "      <td>China</td>\n",
       "      <td>CN</td>\n",
       "    </tr>\n",
       "    <tr>\n",
       "      <th>4</th>\n",
       "      <td>Hydraulic system for one-bucket frontal loader.</td>\n",
       "      <td>BY15691-C1</td>\n",
       "      <td>2012.0</td>\n",
       "      <td>Russian</td>\n",
       "      <td>1.0</td>\n",
       "      <td>World</td>\n",
       "      <td>BY</td>\n",
       "    </tr>\n",
       "  </tbody>\n",
       "</table>\n",
       "</div>"
      ],
      "text/plain": [
       "                                               Title    PatentNumber  \\\n",
       "0   Hybrid winch drive system has power generatin...  KR2011074434-A   \n",
       "1   Apparatus for regenerating hydraulic oil, has...  JP2011162655-A   \n",
       "2   Snow sweeping vehicle for use in e.g. road, h...   CN201924308-U   \n",
       "3   Universal oil opening connecting flange set, ...   CN201963644-U   \n",
       "4    Hydraulic system for one-bucket frontal loader.      BY15691-C1   \n",
       "\n",
       "   publishDate  language  pages region  na  \n",
       "0       2011.0       NaN    4.0  World  KR  \n",
       "1       2011.0  Japanese    2.0  World  JP  \n",
       "2       2011.0   Chinese    0.0  China  CN  \n",
       "3       2011.0   Chinese    7.0  China  CN  \n",
       "4       2012.0   Russian    1.0  World  BY  "
      ]
     },
     "execution_count": 7,
     "metadata": {},
     "output_type": "execute_result"
    }
   ],
   "source": [
    "import pandas as pd \n",
    "import numpy as np\n",
    "import matplotlib.pyplot as plt\n",
    "import re\n",
    "%matplotlib inline\n",
    "plt.rcParams['font.family'] = ['sans-serif']\n",
    "plt.rcParams['font.sans-serif'] = ['SimHei']\n",
    "pa=pd.read_csv(\"output/machinepatents.csv\",index_col=0)\n",
    "pa.head()\n",
    "\n",
    "\n",
    "\n"
   ]
  },
  {
   "cell_type": "code",
   "execution_count": 8,
   "metadata": {},
   "outputs": [],
   "source": [
    "pa.groupby(\"na\").count().sort_values(by=\"PatentNumber\",ascending=False)[\"PatentNumber\"].to_csv(\"世界\")"
   ]
  },
  {
   "cell_type": "code",
   "execution_count": 9,
   "metadata": {},
   "outputs": [
    {
     "data": {
      "image/png": "[encoded data removed]",
      "text/plain": [
       "<Figure size 1008x432 with 1 Axes>"
      ]
     },
     "metadata": {
      "needs_background": "light"
     },
     "output_type": "display_data"
    }
   ],
   "source": [
    "data=pa.groupby(\"na\").count().sort_values(by=\"PatentNumber\",ascending=False)[\"PatentNumber\"][0:10]\n",
    "plt.figure(figsize=(14,6))\n",
    "plt.bar(x=range(len(data)),height=data.values,tick_label=data.index )\n",
    "for a,b in zip(range(len(data)),data.values):\n",
    "    plt.text(a,b , '{} '.format(b), ha='center', va= 'bottom',fontsize=12)\n",
    "plt.savefig(\"世界2011-2020\"+\".png\")"
   ]
  },
  {
   "cell_type": "code",
   "execution_count": null,
   "metadata": {},
   "outputs": [],
   "source": []
  },
  {
   "cell_type": "code",
   "execution_count": null,
   "metadata": {},
   "outputs": [],
   "source": []
  }
 ],
 "metadata": {
  "kernelspec": {
   "display_name": "Python 3",
   "language": "python",
   "name": "python3"
  },
  "language_info": {
   "codemirror_mode": {
    "name": "ipython",
    "version": 3
   },
   "file_extension": ".py",
   "mimetype": "text/x-python",
   "name": "python",
   "nbconvert_exporter": "python",
   "pygments_lexer": "ipython3",
   "version": "3.7.1"
  }
 },
 "nbformat": 4,
 "nbformat_minor": 2
}
