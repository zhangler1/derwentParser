{
 "cells": [
  {
   "cell_type": "code",
   "execution_count": 18,
   "metadata": {},
   "outputs": [],
   "source": [
    "import pandas as pd \n",
    "import numpy as np\n",
    "import re "
   ]
  },
  {
   "cell_type": "code",
   "execution_count": 19,
   "metadata": {},
   "outputs": [
    {
     "ename": "NameError",
     "evalue": "name 'machinepatAEs' is not defined",
     "output_type": "error",
     "traceback": [
      "\u001b[1;31m---------------------------------------------------------------------------\u001b[0m",
      "\u001b[1;31mNameError\u001b[0m                                 Traceback (most recent call last)",
      "\u001b[1;32m<ipython-input-19-9ab7264691d4>\u001b[0m in \u001b[0;36m<module>\u001b[1;34m\u001b[0m\n\u001b[1;32m----> 1\u001b[1;33m \u001b[0mmachinepatAEs\u001b[0m\u001b[1;33m.\u001b[0m\u001b[0mcsv\u001b[0m\u001b[1;33m\u001b[0m\u001b[1;33m\u001b[0m\u001b[0m\n\u001b[0m\u001b[0;32m      2\u001b[0m \u001b[0mmachinepatAUs\u001b[0m\u001b[1;33m.\u001b[0m\u001b[0mcsv\u001b[0m\u001b[1;33m\u001b[0m\u001b[1;33m\u001b[0m\u001b[0m\n\u001b[0;32m      3\u001b[0m \u001b[0mmachinepatents\u001b[0m\u001b[1;33m.\u001b[0m\u001b[0mcsv\u001b[0m\u001b[1;33m\u001b[0m\u001b[1;33m\u001b[0m\u001b[0m\n\u001b[0;32m      4\u001b[0m \u001b[0mmachinepatIPCs\u001b[0m\u001b[1;33m.\u001b[0m\u001b[0mcsv\u001b[0m\u001b[1;33m\u001b[0m\u001b[1;33m\u001b[0m\u001b[0m\n\u001b[0;32m      5\u001b[0m \u001b[0mmachinepatNations\u001b[0m\u001b[1;33m.\u001b[0m\u001b[0mcsv\u001b[0m\u001b[1;33m\u001b[0m\u001b[1;33m\u001b[0m\u001b[0m\n",
      "\u001b[1;31mNameError\u001b[0m: name 'machinepatAEs' is not defined"
     ]
    }
   ],
   "source": [
    "machinepatAEs.csv\n",
    "machinepatAUs.csv\n",
    "machinepatents.csv\n",
    "machinepatIPCs.csv\n",
    "machinepatNations.csv"
   ]
  },
  {
   "cell_type": "code",
   "execution_count": 20,
   "metadata": {},
   "outputs": [],
   "source": [
    "import matplotlib.pyplot as plt\n",
    "%matplotlib inline\n",
    "plt.rcParams['font.family'] = ['sans-serif']\n",
    "plt.rcParams['font.sans-serif'] = ['SimHei']"
   ]
  },
  {
   "cell_type": "code",
   "execution_count": 21,
   "metadata": {},
   "outputs": [],
   "source": [
    "pae=pd.read_csv(\"output/machinepatAEs.csv\",index_col=0)"
   ]
  },
  {
   "cell_type": "code",
   "execution_count": 22,
   "metadata": {},
   "outputs": [],
   "source": [
    "pau=pd.read_csv(\"output/machinepatAUs.csv\",index_col=0)"
   ]
  },
  {
   "cell_type": "code",
   "execution_count": null,
   "metadata": {},
   "outputs": [],
   "source": []
  },
  {
   "cell_type": "code",
   "execution_count": 23,
   "metadata": {},
   "outputs": [],
   "source": [
    "pIPC=pd.read_csv(\"output/machinepatIPCs.csv\",index_col=0)"
   ]
  },
  {
   "cell_type": "code",
   "execution_count": 24,
   "metadata": {},
   "outputs": [
    {
     "data": {
      "text/html": [
       "<div>\n",
       "<style scoped>\n",
       "    .dataframe tbody tr th:only-of-type {\n",
       "        vertical-align: middle;\n",
       "    }\n",
       "\n",
       "    .dataframe tbody tr th {\n",
       "        vertical-align: top;\n",
       "    }\n",
       "\n",
       "    .dataframe thead th {\n",
       "        text-align: right;\n",
       "    }\n",
       "</style>\n",
       "<table border=\"1\" class=\"dataframe\">\n",
       "  <thead>\n",
       "    <tr style=\"text-align: right;\">\n",
       "      <th></th>\n",
       "      <th>PatentNumber</th>\n",
       "      <th>nationality</th>\n",
       "    </tr>\n",
       "  </thead>\n",
       "  <tbody>\n",
       "    <tr>\n",
       "      <th>0</th>\n",
       "      <td>KR2011074434-A</td>\n",
       "      <td>KR</td>\n",
       "    </tr>\n",
       "    <tr>\n",
       "      <th>1</th>\n",
       "      <td>JP2011162655-A</td>\n",
       "      <td>JP</td>\n",
       "    </tr>\n",
       "    <tr>\n",
       "      <th>2</th>\n",
       "      <td>CN201924308-U</td>\n",
       "      <td>CN</td>\n",
       "    </tr>\n",
       "    <tr>\n",
       "      <th>3</th>\n",
       "      <td>CN201963644-U</td>\n",
       "      <td>CN</td>\n",
       "    </tr>\n",
       "    <tr>\n",
       "      <th>4</th>\n",
       "      <td>BY15691-C1</td>\n",
       "      <td>BY</td>\n",
       "    </tr>\n",
       "  </tbody>\n",
       "</table>\n",
       "</div>"
      ],
      "text/plain": [
       "     PatentNumber nationality\n",
       "0  KR2011074434-A          KR\n",
       "1  JP2011162655-A          JP\n",
       "2   CN201924308-U          CN\n",
       "3   CN201963644-U          CN\n",
       "4      BY15691-C1          BY"
      ]
     },
     "execution_count": 24,
     "metadata": {},
     "output_type": "execute_result"
    }
   ],
   "source": [
    "pna=pd.read_csv(\"output/machinepatNations.csv\",index_col=0)\n",
    "pna.head()\n"
   ]
  },
  {
   "cell_type": "code",
   "execution_count": 46,
   "metadata": {},
   "outputs": [
    {
     "data": {
      "text/html": [
       "<div>\n",
       "<style scoped>\n",
       "    .dataframe tbody tr th:only-of-type {\n",
       "        vertical-align: middle;\n",
       "    }\n",
       "\n",
       "    .dataframe tbody tr th {\n",
       "        vertical-align: top;\n",
       "    }\n",
       "\n",
       "    .dataframe thead th {\n",
       "        text-align: right;\n",
       "    }\n",
       "</style>\n",
       "<table border=\"1\" class=\"dataframe\">\n",
       "  <thead>\n",
       "    <tr style=\"text-align: right;\">\n",
       "      <th></th>\n",
       "      <th>Title</th>\n",
       "      <th>PatentNumber</th>\n",
       "      <th>publishDate</th>\n",
       "      <th>language</th>\n",
       "      <th>pages</th>\n",
       "      <th>region</th>\n",
       "      <th>na</th>\n",
       "    </tr>\n",
       "  </thead>\n",
       "  <tbody>\n",
       "    <tr>\n",
       "      <th>0</th>\n",
       "      <td>Hybrid winch drive system has power generatin...</td>\n",
       "      <td>KR2011074434-A</td>\n",
       "      <td>2011.0</td>\n",
       "      <td>NaN</td>\n",
       "      <td>4.0</td>\n",
       "      <td>World</td>\n",
       "      <td>KR</td>\n",
       "    </tr>\n",
       "    <tr>\n",
       "      <th>1</th>\n",
       "      <td>Apparatus for regenerating hydraulic oil, has...</td>\n",
       "      <td>JP2011162655-A</td>\n",
       "      <td>2011.0</td>\n",
       "      <td>Japanese</td>\n",
       "      <td>2.0</td>\n",
       "      <td>World</td>\n",
       "      <td>JP</td>\n",
       "    </tr>\n",
       "    <tr>\n",
       "      <th>2</th>\n",
       "      <td>Snow sweeping vehicle for use in e.g. road, h...</td>\n",
       "      <td>CN201924308-U</td>\n",
       "      <td>2011.0</td>\n",
       "      <td>Chinese</td>\n",
       "      <td>0.0</td>\n",
       "      <td>China</td>\n",
       "      <td>CN</td>\n",
       "    </tr>\n",
       "    <tr>\n",
       "      <th>3</th>\n",
       "      <td>Universal oil opening connecting flange set, ...</td>\n",
       "      <td>CN201963644-U</td>\n",
       "      <td>2011.0</td>\n",
       "      <td>Chinese</td>\n",
       "      <td>7.0</td>\n",
       "      <td>China</td>\n",
       "      <td>CN</td>\n",
       "    </tr>\n",
       "    <tr>\n",
       "      <th>4</th>\n",
       "      <td>Hydraulic system for one-bucket frontal loader.</td>\n",
       "      <td>BY15691-C1</td>\n",
       "      <td>2012.0</td>\n",
       "      <td>Russian</td>\n",
       "      <td>1.0</td>\n",
       "      <td>World</td>\n",
       "      <td>BY</td>\n",
       "    </tr>\n",
       "  </tbody>\n",
       "</table>\n",
       "</div>"
      ],
      "text/plain": [
       "                                               Title    PatentNumber  \\\n",
       "0   Hybrid winch drive system has power generatin...  KR2011074434-A   \n",
       "1   Apparatus for regenerating hydraulic oil, has...  JP2011162655-A   \n",
       "2   Snow sweeping vehicle for use in e.g. road, h...   CN201924308-U   \n",
       "3   Universal oil opening connecting flange set, ...   CN201963644-U   \n",
       "4    Hydraulic system for one-bucket frontal loader.      BY15691-C1   \n",
       "\n",
       "   publishDate  language  pages region  na  \n",
       "0       2011.0       NaN    4.0  World  KR  \n",
       "1       2011.0  Japanese    2.0  World  JP  \n",
       "2       2011.0   Chinese    0.0  China  CN  \n",
       "3       2011.0   Chinese    7.0  China  CN  \n",
       "4       2012.0   Russian    1.0  World  BY  "
      ]
     },
     "execution_count": 46,
     "metadata": {},
     "output_type": "execute_result"
    }
   ],
   "source": [
    "import re \n",
    "import csv\n",
    "pa=pd.read_csv(\"output/machinepatents.csv\",index_col=0)\n",
    "pa.head(5)"
   ]
  },
  {
   "cell_type": "code",
   "execution_count": 47,
   "metadata": {},
   "outputs": [],
   "source": [
    "# pa[\"main\"]=list(map(lambda x: re.match(\"\\w\\d\\d\\w-\\d\\d\\d\",x).group(0),pa[\"ipcTOP3\"]))\n",
    "# pa.head(5)"
   ]
  },
  {
   "cell_type": "code",
   "execution_count": 48,
   "metadata": {
    "scrolled": true
   },
   "outputs": [
    {
     "data": {
      "text/plain": [
       "Title           37113\n",
       "PatentNumber    37113\n",
       "publishDate     37111\n",
       "language        33502\n",
       "pages           36465\n",
       "region          37113\n",
       "na              37113\n",
       "dtype: int64"
      ]
     },
     "execution_count": 48,
     "metadata": {},
     "output_type": "execute_result"
    }
   ],
   "source": [
    "\n",
    "World=pa[pa.region==\"World\"]\n",
    "China=pa[pa.region==\"China\"]\n",
    "JiangSu=pa[pa.region==\"JiangSu\"]\n",
    "World"
   ]
  },
  {
   "cell_type": "code",
   "execution_count": 49,
   "metadata": {},
   "outputs": [
    {
     "data": {
      "text/plain": [
       "Title           97506\n",
       "PatentNumber    97506\n",
       "publishDate     97504\n",
       "language        97504\n",
       "pages           95555\n",
       "region          97506\n",
       "na              97506\n",
       "dtype: int64"
      ]
     },
     "execution_count": 49,
     "metadata": {},
     "output_type": "execute_result"
    }
   ],
   "source": [
    "# \n",
    "leftdata=pa[pa.region!=\"World\"]\n",
    "leftdata.count()"
   ]
  },
  {
   "cell_type": "code",
   "execution_count": 50,
   "metadata": {
    "scrolled": true
   },
   "outputs": [],
   "source": [
    "NAtable=pd.merge(leftdata,pna,how=\"left\")\n",
    "NAtable.head()\n",
    "NA=NAtable.groupby(\"PatentNumber\").apply(lambda x:x[\"nationality\"].values)\n",
    "with open(\"NAtable.csv\",\"w\",newline=\"\") as f:\n",
    "    writer=csv.writer(f)\n",
    "    for i in NA.values:\n",
    "        writer.writerow(i)"
   ]
  },
  {
   "cell_type": "code",
   "execution_count": 51,
   "metadata": {},
   "outputs": [],
   "source": [
    "IPCtable=pd.merge(leftdata,pIPC,how=\"left\")\n",
    "IPCtable.head()\n",
    "IPC=IPCtable.groupby(\"PatentNumber\").apply(lambda x:x[\"IPC\"].values)\n",
    "with open(\"IPCtable.csv\",\"w\",newline=\"\") as f:\n",
    "    writer=csv.writer(f)\n",
    "    for i in IPC.values:\n",
    "        writer.writerow(i)"
   ]
  },
  {
   "cell_type": "code",
   "execution_count": 52,
   "metadata": {},
   "outputs": [],
   "source": [
    "\n",
    "\n",
    "AEtable=pd.merge(leftdata,pae,how=\"left\")\n",
    "AEtable.head()\n",
    "\n",
    "AE=AEtable.groupby(\"PatentNumber\").apply(lambda x:x[\"PatentAsignee\"].values)\n",
    "with open(\"AEtable.csv\",\"w\",newline=\"\") as f:\n",
    "    writer=csv.writer(f)\n",
    "    for i in AE.values:\n",
    "        writer.writerow(i)"
   ]
  },
  {
   "cell_type": "code",
   "execution_count": null,
   "metadata": {},
   "outputs": [],
   "source": []
  },
  {
   "cell_type": "code",
   "execution_count": 17,
   "metadata": {},
   "outputs": [
    {
     "data": {
      "text/html": [
       "<div>\n",
       "<style scoped>\n",
       "    .dataframe tbody tr th:only-of-type {\n",
       "        vertical-align: middle;\n",
       "    }\n",
       "\n",
       "    .dataframe tbody tr th {\n",
       "        vertical-align: top;\n",
       "    }\n",
       "\n",
       "    .dataframe thead th {\n",
       "        text-align: right;\n",
       "    }\n",
       "</style>\n",
       "<table border=\"1\" class=\"dataframe\">\n",
       "  <thead>\n",
       "    <tr style=\"text-align: right;\">\n",
       "      <th></th>\n",
       "      <th>Title</th>\n",
       "      <th>PatentNumber</th>\n",
       "      <th>publishDate</th>\n",
       "      <th>language</th>\n",
       "      <th>pages</th>\n",
       "      <th>region</th>\n",
       "      <th>na</th>\n",
       "      <th>PatentAsignee</th>\n",
       "    </tr>\n",
       "  </thead>\n",
       "  <tbody>\n",
       "    <tr>\n",
       "      <th>0</th>\n",
       "      <td>Hybrid winch drive system has power generatin...</td>\n",
       "      <td>KR2011074434-A</td>\n",
       "      <td>2011.0</td>\n",
       "      <td>NaN</td>\n",
       "      <td>4.0</td>\n",
       "      <td>World</td>\n",
       "      <td>KR</td>\n",
       "      <td>KOREA ADV INST SCI &amp; TECHNOLOGY (KOAD-C)</td>\n",
       "    </tr>\n",
       "    <tr>\n",
       "      <th>1</th>\n",
       "      <td>Hybrid winch drive system has power generatin...</td>\n",
       "      <td>KR2011074434-A</td>\n",
       "      <td>2011.0</td>\n",
       "      <td>NaN</td>\n",
       "      <td>4.0</td>\n",
       "      <td>World</td>\n",
       "      <td>KR</td>\n",
       "      <td>UNIV ULSAN FOUND IND COOP (ULAS-C)</td>\n",
       "    </tr>\n",
       "    <tr>\n",
       "      <th>2</th>\n",
       "      <td>Apparatus for regenerating hydraulic oil, has...</td>\n",
       "      <td>JP2011162655-A</td>\n",
       "      <td>2011.0</td>\n",
       "      <td>Japanese</td>\n",
       "      <td>2.0</td>\n",
       "      <td>World</td>\n",
       "      <td>JP</td>\n",
       "      <td>PLANT TECHNOS KK (PLAN-Non-standard)</td>\n",
       "    </tr>\n",
       "    <tr>\n",
       "      <th>3</th>\n",
       "      <td>Snow sweeping vehicle for use in e.g. road, h...</td>\n",
       "      <td>CN201924308-U</td>\n",
       "      <td>2011.0</td>\n",
       "      <td>Chinese</td>\n",
       "      <td>0.0</td>\n",
       "      <td>China</td>\n",
       "      <td>CN</td>\n",
       "      <td>DALIAN TIGER METAL PROD CO LTD (DALI-Non-stand...</td>\n",
       "    </tr>\n",
       "    <tr>\n",
       "      <th>4</th>\n",
       "      <td>Universal oil opening connecting flange set, ...</td>\n",
       "      <td>CN201963644-U</td>\n",
       "      <td>2011.0</td>\n",
       "      <td>Chinese</td>\n",
       "      <td>7.0</td>\n",
       "      <td>China</td>\n",
       "      <td>CN</td>\n",
       "      <td>WU M (WUMM-Individual)</td>\n",
       "    </tr>\n",
       "  </tbody>\n",
       "</table>\n",
       "</div>"
      ],
      "text/plain": [
       "                                               Title    PatentNumber  \\\n",
       "0   Hybrid winch drive system has power generatin...  KR2011074434-A   \n",
       "1   Hybrid winch drive system has power generatin...  KR2011074434-A   \n",
       "2   Apparatus for regenerating hydraulic oil, has...  JP2011162655-A   \n",
       "3   Snow sweeping vehicle for use in e.g. road, h...   CN201924308-U   \n",
       "4   Universal oil opening connecting flange set, ...   CN201963644-U   \n",
       "\n",
       "   publishDate  language  pages region  na  \\\n",
       "0       2011.0       NaN    4.0  World  KR   \n",
       "1       2011.0       NaN    4.0  World  KR   \n",
       "2       2011.0  Japanese    2.0  World  JP   \n",
       "3       2011.0   Chinese    0.0  China  CN   \n",
       "4       2011.0   Chinese    7.0  China  CN   \n",
       "\n",
       "                                       PatentAsignee  \n",
       "0           KOREA ADV INST SCI & TECHNOLOGY (KOAD-C)  \n",
       "1                 UNIV ULSAN FOUND IND COOP (ULAS-C)  \n",
       "2               PLANT TECHNOS KK (PLAN-Non-standard)  \n",
       "3  DALIAN TIGER METAL PROD CO LTD (DALI-Non-stand...  \n",
       "4                             WU M (WUMM-Individual)  "
      ]
     },
     "execution_count": 17,
     "metadata": {},
     "output_type": "execute_result"
    }
   ],
   "source": [
    "AEtable=pd.merge(pa,pae,left_on=\"PatentNumber\",right_on=\"PatentNumber\")\n",
    "AEtable.head(5)"
   ]
  },
  {
   "cell_type": "code",
   "execution_count": 27,
   "metadata": {},
   "outputs": [
    {
     "data": {
      "text/html": [
       "<div>\n",
       "<style scoped>\n",
       "    .dataframe tbody tr th:only-of-type {\n",
       "        vertical-align: middle;\n",
       "    }\n",
       "\n",
       "    .dataframe tbody tr th {\n",
       "        vertical-align: top;\n",
       "    }\n",
       "\n",
       "    .dataframe thead th {\n",
       "        text-align: right;\n",
       "    }\n",
       "</style>\n",
       "<table border=\"1\" class=\"dataframe\">\n",
       "  <thead>\n",
       "    <tr style=\"text-align: right;\">\n",
       "      <th></th>\n",
       "      <th>Title</th>\n",
       "      <th>PatentNumber</th>\n",
       "      <th>publishDate</th>\n",
       "      <th>language</th>\n",
       "      <th>pages</th>\n",
       "      <th>region</th>\n",
       "      <th>nationality</th>\n",
       "    </tr>\n",
       "  </thead>\n",
       "  <tbody>\n",
       "    <tr>\n",
       "      <th>0</th>\n",
       "      <td>Hybrid winch drive system has power generatin...</td>\n",
       "      <td>KR2011074434-A</td>\n",
       "      <td>2011.0</td>\n",
       "      <td>NaN</td>\n",
       "      <td>4.0</td>\n",
       "      <td>World</td>\n",
       "      <td>KR</td>\n",
       "    </tr>\n",
       "    <tr>\n",
       "      <th>1</th>\n",
       "      <td>Apparatus for regenerating hydraulic oil, has...</td>\n",
       "      <td>JP2011162655-A</td>\n",
       "      <td>2011.0</td>\n",
       "      <td>Japanese</td>\n",
       "      <td>2.0</td>\n",
       "      <td>World</td>\n",
       "      <td>JP</td>\n",
       "    </tr>\n",
       "    <tr>\n",
       "      <th>2</th>\n",
       "      <td>Snow sweeping vehicle for use in e.g. road, h...</td>\n",
       "      <td>CN201924308-U</td>\n",
       "      <td>2011.0</td>\n",
       "      <td>Chinese</td>\n",
       "      <td>0.0</td>\n",
       "      <td>China</td>\n",
       "      <td>CN</td>\n",
       "    </tr>\n",
       "    <tr>\n",
       "      <th>3</th>\n",
       "      <td>Universal oil opening connecting flange set, ...</td>\n",
       "      <td>CN201963644-U</td>\n",
       "      <td>2011.0</td>\n",
       "      <td>Chinese</td>\n",
       "      <td>7.0</td>\n",
       "      <td>China</td>\n",
       "      <td>CN</td>\n",
       "    </tr>\n",
       "    <tr>\n",
       "      <th>4</th>\n",
       "      <td>Hydraulic system for one-bucket frontal loader.</td>\n",
       "      <td>BY15691-C1</td>\n",
       "      <td>2012.0</td>\n",
       "      <td>Russian</td>\n",
       "      <td>1.0</td>\n",
       "      <td>World</td>\n",
       "      <td>BY</td>\n",
       "    </tr>\n",
       "  </tbody>\n",
       "</table>\n",
       "</div>"
      ],
      "text/plain": [
       "                                               Title    PatentNumber  \\\n",
       "0   Hybrid winch drive system has power generatin...  KR2011074434-A   \n",
       "1   Apparatus for regenerating hydraulic oil, has...  JP2011162655-A   \n",
       "2   Snow sweeping vehicle for use in e.g. road, h...   CN201924308-U   \n",
       "3   Universal oil opening connecting flange set, ...   CN201963644-U   \n",
       "4    Hydraulic system for one-bucket frontal loader.      BY15691-C1   \n",
       "\n",
       "   publishDate  language  pages region nationality  \n",
       "0       2011.0       NaN    4.0  World          KR  \n",
       "1       2011.0  Japanese    2.0  World          JP  \n",
       "2       2011.0   Chinese    0.0  China          CN  \n",
       "3       2011.0   Chinese    7.0  China          CN  \n",
       "4       2012.0   Russian    1.0  World          BY  "
      ]
     },
     "execution_count": 27,
     "metadata": {},
     "output_type": "execute_result"
    }
   ],
   "source": [
    "NAtable=pd.merge(pa,pna,left_on=\"PatentNumber\",right_on=\"PatentNumber\")\n",
    "NAtable.head(5)"
   ]
  },
  {
   "cell_type": "code",
   "execution_count": null,
   "metadata": {},
   "outputs": [],
   "source": [
    "NAtable.groupby(by=[\"nationality\"]).count()\n",
    "data=NAtable.groupby(by=[\"nationality\"]).count()[\"PatentNumber\"].sort_values(ascending=False).head(11)\n",
    "data=data.drop(labels=[\"WO\"])\n",
    "data"
   ]
  },
  {
   "cell_type": "code",
   "execution_count": null,
   "metadata": {},
   "outputs": [],
   "source": [
    "#各个地域的专利数据\n",
    "plt.figure(figsize=(16,8))\n",
    "plt.bar(x=range(len(data)),height=data.values,tick_label=[\"美国\", \"欧洲\" ,\"中国\" ,\"日本\" ,\"澳大利亚\", \"加拿大\" ,\"韩国\" ,\"印度\",\" 巴西\",\"德国\"])\n",
    "\n",
    "for a,b in zip(range(len(data)),data.values):\n",
    "    plt.text(a,b , '%.0f' % b, ha='center', va= 'bottom',fontsize=16)"
   ]
  },
  {
   "cell_type": "code",
   "execution_count": null,
   "metadata": {},
   "outputs": [],
   "source": [
    "pa.groupby(by=[\"publishDate\"]).count()[\"PatentNumber\"][-22:-1]"
   ]
  },
  {
   "cell_type": "code",
   "execution_count": null,
   "metadata": {},
   "outputs": [],
   "source": [
    "#各个地域的专利数据\n",
    "data=pa.groupby(by=[\"publishDate\"]).count()[\"PatentNumber\"]\n",
    "plt.figure(figsize=(12,6))\n",
    "plt.plot(data.index[:-1],data.values[:-1])\n",
    "plt.ylim(bottom=-50, top=700)\n",
    "\n",
    "\n",
    "\n",
    "plt.axvline(x=1998 ,ymax=data[1998.0]/700+0.05,color=\"black\",ls=\"--\")\n",
    "plt.axvline(x=2005 ,ymax=data[2005.0]/700,color=\"black\",ls=\"--\")\n",
    "plt.axvline(x=2013 ,ymax=data[2013.0]/700+0.04,color=\"black\",ls=\"--\")\n",
    "plt.annotate('254',\n",
    "              xy=(2013-0.6 , data[2013.0]),\n",
    "              xytext=(2013-0.6,data[2013.0]),\n",
    "              weight='light',\n",
    "              color='black',\n",
    "            )\n",
    "plt.annotate('2013',\n",
    "              xy=(2013-0.6 , 20),\n",
    "              xytext=(2013-0.6,-75),\n",
    "              weight='light',\n",
    "              color='black',\n",
    "            )\n",
    "plt.annotate('32',\n",
    "              xy=(1998-0.6 , data[1998.0]),\n",
    "              xytext=(1998-0.6,data[1998.0]),\n",
    "              weight='light',\n",
    "              color='black',\n",
    "            )\n",
    "plt.annotate('1998',\n",
    "              xy=(1998-0.6 , 20),\n",
    "              xytext=(1998-0.6,-65),\n",
    "              weight='light',\n",
    "              color='black',\n",
    "            )\n",
    "plt.annotate('607',\n",
    "              xy=(2005-0.6 , 607),\n",
    "              xytext=(2005-0.6,610),\n",
    "              weight='light',\n",
    "              color='black',\n",
    "            )\n",
    "plt.annotate('2005',\n",
    "              xy=(2005-0.6 , 20),\n",
    "              xytext=(2005-0.6,-75),\n",
    "              weight='light',\n",
    "              color='black',\n",
    "            )\n",
    "plt.show()\n",
    "# for a,b in zip(range(len(data)),data.values):\n",
    "#     plt.text(a,b  , '%.0f' % b, ha='center', va= 'bottom',fontsize=12)\n"
   ]
  },
  {
   "cell_type": "code",
   "execution_count": null,
   "metadata": {},
   "outputs": [],
   "source": [
    "data"
   ]
  },
  {
   "cell_type": "code",
   "execution_count": null,
   "metadata": {},
   "outputs": [],
   "source": [
    "alljion=pd.merge(pae,NAtable,left_on=\"PatentNumber\",right_on=\"PatentNumber\")\n",
    "alljion.head()"
   ]
  },
  {
   "cell_type": "code",
   "execution_count": null,
   "metadata": {},
   "outputs": [],
   "source": [
    "data=NAtable[NAtable[\"nationality\"]==\"CN\"].groupby(by=[\"publishDate\"]).count()[\"PatentNumber\"]\n",
    "plt.figure(figsize=(16,6))\n",
    "plt.plot(data.index,data.values)\n",
    "plt.axvline(x=2003 ,ymax=data[2003.0]/300+0.05,color=\"black\",ls=\"--\")\n",
    "plt.annotate('2003',\n",
    "              xy=(2003-0.6 , 20),\n",
    "              xytext=(2003-0.6,-25),\n",
    "              weight='light',\n",
    "              color='black',\n",
    "            )\n",
    "for a,b in zip(data.index,data.values):\n",
    "    plt.text(a,b , '%.d' % b, ha='center', va= 'bottom',fontsize=12)"
   ]
  },
  {
   "cell_type": "code",
   "execution_count": null,
   "metadata": {},
   "outputs": [],
   "source": [
    "data"
   ]
  },
  {
   "cell_type": "code",
   "execution_count": null,
   "metadata": {},
   "outputs": [],
   "source": [
    "\n",
    "cdata=NAtable[NAtable[\"nationality\"]==\"CN\"].groupby(by=[\"publishDate\"]).count()[\"PatentNumber\"].iloc[-25:-1]\n",
    "data=cdata/pa.groupby(by=[\"publishDate\"]).count()[\"PatentNumber\"].iloc[-25:-1]\n",
    "wdata=pa.groupby(by=[\"publishDate\"]).count()[\"PatentNumber\"].iloc[-25:-1]\n",
    "plt.figure(figsize=(16,6))\n",
    "plt.plot(data.index,data.values)\n",
    "for a,b,c in zip(data.index,data.values,cdata):\n",
    "    plt.text(a,b , '{:.0%} {}'.format(b,c), ha='center', va= 'bottom',fontsize=10)"
   ]
  },
  {
   "cell_type": "code",
   "execution_count": null,
   "metadata": {},
   "outputs": [],
   "source": [
    "IPCtop10=pa.groupby(\"main\").count()[\"PatentNumber\"].sort_values(ascending=False).head(10)\n",
    "IPCtop10.sum()/pa.groupby(\"main\").count()[\"PatentNumber\"].sort_values(ascending=False).sum()\n",
    "IPCtop10"
   ]
  },
  {
   "cell_type": "code",
   "execution_count": null,
   "metadata": {},
   "outputs": [],
   "source": [
    "means=[\n",
    "\"含有机有效成分的医药配制品\",\n",
    "\"包含酶或微生物的测定或检验方法\",\n",
    "\"含有抗原或抗体的医药配制品\",\n",
    "\"遗传工程涉及的DNA或RNA分离、制备或纯化\",\n",
    "\"含肽的医药配制品\",\n",
    "\"具有多于20个氨基酸的肽\",\n",
    "\"利用特殊方法来研究或分析材料\",\n",
    "\"含有不明结构的原材料或反应产物的医用配制品 \",\n",
    "\"消毒或灭菌，或者绷带、敷料、吸收垫或外科用品\",\n",
    "\"含有两个或多个单核苷酸单元的化合物\"]"
   ]
  },
  {
   "cell_type": "code",
   "execution_count": null,
   "metadata": {},
   "outputs": [],
   "source": [
    "# data=IPCtop10\n",
    "# plt.figure(figsize=(10,6))\n",
    "# plt.barh(y=means,width=data.values)\n",
    "# for a,b in zip(data.values,range(len(data.index))):\n",
    "#       plt.text(a-30,b-0.1 , '{}   {}' .format(data.index[int(b)],a) , ha='center', va= 'bottom',fontsize=12)"
   ]
  },
  {
   "cell_type": "code",
   "execution_count": null,
   "metadata": {},
   "outputs": [],
   "source": [
    "pa.groupby([\"main\",\"publishDate\"]).count()[\"PatentNumber\"].loc[IPCtop10.index[0]]"
   ]
  },
  {
   "cell_type": "code",
   "execution_count": null,
   "metadata": {
    "scrolled": true
   },
   "outputs": [],
   "source": [
    "plt.figure(figsize=(16,6))\n",
    "for n in range(10):\n",
    "\n",
    "        data =pa.groupby([\"main\",\"publishDate\"]).count()[\"PatentNumber\"].loc[IPCtop10.index[n]]\n",
    "        \n",
    "        plt.plot(data.index[0:-1],data.values[0:-1])\n",
    "        plt.legend(means+IPCtop10.index)\n",
    "        print(means[n]+IPCtop10.index[n])\n",
    "\n",
    "\n",
    "plt.savefig(means[n]+\".png\")"
   ]
  },
  {
   "cell_type": "code",
   "execution_count": null,
   "metadata": {},
   "outputs": [],
   "source": [
    "IPCtop10"
   ]
  },
  {
   "cell_type": "code",
   "execution_count": null,
   "metadata": {},
   "outputs": [],
   "source": [
    "raw=pa.groupby([\"main\",\"publishDate\"]).count()[\"PatentNumber\"]\n",
    "raw.loc[\"A61K-031\"]+raw.loc[\"A61K-039\"]+raw.loc[\"A61K-035\"]\n",
    "pd.add?"
   ]
  },
  {
   "cell_type": "code",
   "execution_count": null,
   "metadata": {},
   "outputs": [],
   "source": [
    "#用add来处理缺失值相加的问题\n",
    "plt.figure(figsize=(16,6))\n",
    "data1=raw.loc[\"A61K-031\"].add(raw.loc[\"A61K-039\"],fill_value=0).add(raw.loc[\"A61K-035\"],fill_value=0).add(raw.loc[\"A61K-038\"],fill_value=0).add(raw.loc[\"A61K-000\"],fill_value=0).iloc[0:-1]\n",
    "data2=raw.loc[\"C12Q-001\"].add(raw.loc[\"C12N-015\"],fill_value=0).add(raw.loc[\"G01N-033\"],fill_value=0).iloc[0:-1]\n",
    "data3=raw.loc[\"C07K-014\"].add(raw.loc[\"C07H-021\"],fill_value=0).iloc[0:-1]\n",
    "plt.plot(data1.index,data1.values)\n",
    "plt.plot(data2.index,data2.values)\n",
    "plt.plot(data3.index,data3.values)\n",
    "plt.legend([\"医药配置品\",\"测定检验分析方法\",\"生物化合物\"])"
   ]
  },
  {
   "cell_type": "code",
   "execution_count": null,
   "metadata": {},
   "outputs": [],
   "source": [
    "raw.loc[\"A61K-031\"].add(raw.loc[\"A61K-039\"],fill_value=0).add(raw.loc[\"A61K-035\"],fill_value=0).iloc[0:-1]"
   ]
  },
  {
   "cell_type": "code",
   "execution_count": null,
   "metadata": {},
   "outputs": [],
   "source": [
    "division=AEtable.groupby(by=[\"PatentAsignee\",\"main\"]).count()[\"PatentNumber\"].loc[worldtop.index]\n",
    "division=division/division.sum(level=0)\n",
    "division"
   ]
  },
  {
   "cell_type": "code",
   "execution_count": null,
   "metadata": {},
   "outputs": [],
   "source": [
    "for i in range(len(worldtop.index)):\n",
    "    print(i)\n",
    "    an=division[worldtop.index[i]]\n",
    "   \n",
    "    indice=[]\n",
    "    [an.values<0.1]\n",
    "    for a,b in zip(an.index,an.values):\n",
    "        if b>0.1 :\n",
    "            indice.append(str(a)+\"  \"+ \"{:.1%}\".format(b))\n",
    "        else :\n",
    "            indice.append( \"{:.1%}\".format(b))\n",
    "    plt.figure(figsize=(6, 6))\n",
    "    plt.pie(x=an.values,labels=indice)\n",
    "    plt.title(worldtop.index[i])\n",
    "    \n",
    "    plt.savefig(worldtop.index[i]+'.png')\n"
   ]
  },
  {
   "cell_type": "code",
   "execution_count": null,
   "metadata": {},
   "outputs": [],
   "source": [
    "AEtable.groupby(PatentAsignee,\"main\"]).count()[\"PatentNumber\"].loc[CNtop.index].count()"
   ]
  },
  {
   "cell_type": "code",
   "execution_count": null,
   "metadata": {},
   "outputs": [],
   "source": []
  },
  {
   "cell_type": "code",
   "execution_count": null,
   "metadata": {},
   "outputs": [],
   "source": [
    "\n",
    "\n"
   ]
  },
  {
   "cell_type": "code",
   "execution_count": null,
   "metadata": {},
   "outputs": [],
   "source": []
  },
  {
   "cell_type": "code",
   "execution_count": null,
   "metadata": {},
   "outputs": [],
   "source": []
  },
  {
   "cell_type": "code",
   "execution_count": null,
   "metadata": {},
   "outputs": [],
   "source": [
    "# list(map(lambda x:re.sub(r\"\\(.+?\\)\",\"\",x),data.index))"
   ]
  },
  {
   "cell_type": "code",
   "execution_count": null,
   "metadata": {},
   "outputs": [],
   "source": [
    "CNtop=alljion[alljion[\"nationality\"]==\"CN\"].groupby(by=\"PatentAsignee\").count()[\"PatentNumber\"].sort_values(ascending=False).head(20)#只有一列数据是不用指定排列的目标\n",
    "worldtop=AEtable.groupby(by=\"PatentAsignee\").count()[\"PatentNumber\"].sort_values(ascending=False).head(10 )#只有一列数据是不用指定排列的目标\n",
    "worldtop                                                                                               "
   ]
  },
  {
   "cell_type": "code",
   "execution_count": null,
   "metadata": {
    "scrolled": true
   },
   "outputs": [],
   "source": [
    "\n",
    "data=worldtop.sort_values(ascending=True)\n",
    "plt.figure(figsize=(8,5))\n",
    "for a,b in zip(range(len(data.index)),data.values):\n",
    " plt.text(b+1,a-0.15 , '%.0f' % b, ha='center', va= 'bottom',fontsize=12)\n",
    "plt.barh(list(map(lambda x:re.sub(r\"\\(.+?\\)\",\"\",x),data.index)),data.values)\n",
    "plt.savefig(\"世界专利权人\"+'.png')"
   ]
  },
  {
   "cell_type": "code",
   "execution_count": null,
   "metadata": {},
   "outputs": [],
   "source": [
    "# alljion[alljion[\"nationality\"]==\"CN\"].groupby(by=\"PatentAsignee\").count()[\"PatentNumber\"].sort_values(ascending=False).sum()"
   ]
  },
  {
   "cell_type": "code",
   "execution_count": null,
   "metadata": {},
   "outputs": [],
   "source": [
    "CNtop"
   ]
  },
  {
   "cell_type": "code",
   "execution_count": null,
   "metadata": {},
   "outputs": [],
   "source": []
  },
  {
   "cell_type": "code",
   "execution_count": null,
   "metadata": {},
   "outputs": [],
   "source": [
    "\n",
    "list(map(lambda x:not bool(re.search(r\".+Individual\",x)),raw.index))"
   ]
  },
  {
   "cell_type": "code",
   "execution_count": null,
   "metadata": {},
   "outputs": [],
   "source": [
    "# 对某一个机构进行合作分析\n",
    "PatentAsignee=\"NOVARTIS AG (NOVS-C)\"\n",
    "qinghuapn=AEtable[AEtable[\"PatentAsignee\"]==PatentAsignee][\"PatentNumber\"]\n",
    "raw=AEtable[AEtable[\"PatentNumber\"].isin(qinghuapn)]\n",
    "raw=raw.groupby(by=[\"PatentAsignee\"]).count()[[\"PatentNumber\"]]\n",
    "raw=raw[list(map(lambda x:not bool(re.search(r\".+Individual\",x)),raw.index))]#去掉含有个体的项\n",
    "raw[raw.values>2]"
   ]
  },
  {
   "cell_type": "code",
   "execution_count": null,
   "metadata": {},
   "outputs": [],
   "source": []
  },
  {
   "cell_type": "code",
   "execution_count": null,
   "metadata": {},
   "outputs": [],
   "source": []
  },
  {
   "cell_type": "code",
   "execution_count": null,
   "metadata": {},
   "outputs": [],
   "source": []
  },
  {
   "cell_type": "code",
   "execution_count": null,
   "metadata": {},
   "outputs": [],
   "source": []
  },
  {
   "cell_type": "code",
   "execution_count": null,
   "metadata": {},
   "outputs": [],
   "source": []
  }
 ],
 "metadata": {
  "kernelspec": {
   "display_name": "Python 3",
   "language": "python",
   "name": "python3"
  },
  "language_info": {
   "codemirror_mode": {
    "name": "ipython",
    "version": 3
   },
   "file_extension": ".py",
   "mimetype": "text/x-python",
   "name": "python",
   "nbconvert_exporter": "python",
   "pygments_lexer": "ipython3",
   "version": "3.7.1"
  }
 },
 "nbformat": 4,
 "nbformat_minor": 2
}
