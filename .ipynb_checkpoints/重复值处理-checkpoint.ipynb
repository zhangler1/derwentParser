{
 "cells": [
  {
   "cell_type": "code",
   "execution_count": 1,
   "metadata": {},
   "outputs": [],
   "source": [
    "import pandas as pd\n",
    "import numpy as np"
   ]
  },
  {
   "cell_type": "code",
   "execution_count": 2,
   "metadata": {},
   "outputs": [
    {
     "data": {
      "text/html": [
       "<div>\n",
       "<style scoped>\n",
       "    .dataframe tbody tr th:only-of-type {\n",
       "        vertical-align: middle;\n",
       "    }\n",
       "\n",
       "    .dataframe tbody tr th {\n",
       "        vertical-align: top;\n",
       "    }\n",
       "\n",
       "    .dataframe thead th {\n",
       "        text-align: right;\n",
       "    }\n",
       "</style>\n",
       "<table border=\"1\" class=\"dataframe\">\n",
       "  <thead>\n",
       "    <tr style=\"text-align: right;\">\n",
       "      <th></th>\n",
       "      <th>Title</th>\n",
       "      <th>PatentNumber</th>\n",
       "      <th>ipcTOP3</th>\n",
       "      <th>authors</th>\n",
       "      <th>publishDate</th>\n",
       "      <th>language</th>\n",
       "      <th>pages</th>\n",
       "    </tr>\n",
       "  </thead>\n",
       "  <tbody>\n",
       "    <tr>\n",
       "      <th>0</th>\n",
       "      <td>NaN</td>\n",
       "      <td>JP2020007234-A</td>\n",
       "      <td>A61K-038/07</td>\n",
       "      <td>FUTAKAWA K</td>\n",
       "      <td>2020.0</td>\n",
       "      <td>Japanese</td>\n",
       "      <td>4.0</td>\n",
       "    </tr>\n",
       "    <tr>\n",
       "      <th>1</th>\n",
       "      <td>NaN</td>\n",
       "      <td>WO2020014654-A1</td>\n",
       "      <td>A61K-039/12</td>\n",
       "      <td>PATTON J T</td>\n",
       "      <td>2020.0</td>\n",
       "      <td>English</td>\n",
       "      <td>4.0</td>\n",
       "    </tr>\n",
       "    <tr>\n",
       "      <th>2</th>\n",
       "      <td>NaN</td>\n",
       "      <td>CN110669873-A</td>\n",
       "      <td>C12Q-001/686</td>\n",
       "      <td>HUANG T</td>\n",
       "      <td>2020.0</td>\n",
       "      <td>Chinese</td>\n",
       "      <td>9.0</td>\n",
       "    </tr>\n",
       "    <tr>\n",
       "      <th>3</th>\n",
       "      <td>NaN</td>\n",
       "      <td>WO2020006494-A1</td>\n",
       "      <td>C07K-014/005</td>\n",
       "      <td>BLOOM J</td>\n",
       "      <td>2020.0</td>\n",
       "      <td>English</td>\n",
       "      <td>7.0</td>\n",
       "    </tr>\n",
       "  </tbody>\n",
       "</table>\n",
       "</div>"
      ],
      "text/plain": [
       "   Title     PatentNumber       ipcTOP3     authors  publishDate  language  \\\n",
       "0    NaN   JP2020007234-A   A61K-038/07  FUTAKAWA K       2020.0  Japanese   \n",
       "1    NaN  WO2020014654-A1   A61K-039/12  PATTON J T       2020.0   English   \n",
       "2    NaN    CN110669873-A  C12Q-001/686     HUANG T       2020.0   Chinese   \n",
       "3    NaN  WO2020006494-A1  C07K-014/005     BLOOM J       2020.0   English   \n",
       "\n",
       "   pages  \n",
       "0    4.0  \n",
       "1    4.0  \n",
       "2    9.0  \n",
       "3    7.0  "
      ]
     },
     "execution_count": 2,
     "metadata": {},
     "output_type": "execute_result"
    }
   ],
   "source": [
    "pat=pd.read_csv(\"output\\patents.csv\",index_col=0)\n",
    "pat.head(4)"
   ]
  },
  {
   "cell_type": "code",
   "execution_count": 3,
   "metadata": {},
   "outputs": [
    {
     "data": {
      "text/plain": [
       "Title           7095\n",
       "PatentNumber       0\n",
       "ipcTOP3           52\n",
       "authors          309\n",
       "publishDate      196\n",
       "language         752\n",
       "pages            948\n",
       "dtype: int64"
      ]
     },
     "execution_count": 3,
     "metadata": {},
     "output_type": "execute_result"
    }
   ],
   "source": [
    "pat.drop_duplicates(subset=\"PatentNumber\",keep=\"first\",inplace=True)\n",
    "pat.isnull().sum()"
   ]
  },
  {
   "cell_type": "code",
   "execution_count": 4,
   "metadata": {},
   "outputs": [
    {
     "data": {
      "text/plain": [
       "Title           7043\n",
       "PatentNumber       0\n",
       "ipcTOP3            0\n",
       "authors          257\n",
       "publishDate        0\n",
       "language         700\n",
       "pages            896\n",
       "dtype: int64"
      ]
     },
     "execution_count": 4,
     "metadata": {},
     "output_type": "execute_result"
    }
   ],
   "source": [
    "pat.publishDate=pat.publishDate.fillna(int(pat.publishDate.mean()))\n",
    "pat.dropna(subset=[\"ipcTOP3\"],inplace=True)\n",
    "pat.isnull().sum()"
   ]
  },
  {
   "cell_type": "code",
   "execution_count": 5,
   "metadata": {},
   "outputs": [],
   "source": [
    "pat.to_csv(\"output\\patents2.csv\",index=False)"
   ]
  },
  {
   "cell_type": "code",
   "execution_count": null,
   "metadata": {},
   "outputs": [],
   "source": []
  },
  {
   "cell_type": "code",
   "execution_count": null,
   "metadata": {},
   "outputs": [],
   "source": []
  },
  {
   "cell_type": "code",
   "execution_count": 6,
   "metadata": {},
   "outputs": [
    {
     "data": {
      "text/plain": [
       "PatentNumber     0\n",
       "PatentAsignee    0\n",
       "dtype: int64"
      ]
     },
     "execution_count": 6,
     "metadata": {},
     "output_type": "execute_result"
    }
   ],
   "source": [
    "pae=pd.read_csv(\"output\\patAEs.csv\",index_col=0)\n",
    "pae.drop_duplicates(keep=\"first\",inplace=True\n",
    "                   )\n",
    "pae.isnull().sum()"
   ]
  },
  {
   "cell_type": "code",
   "execution_count": 7,
   "metadata": {},
   "outputs": [],
   "source": [
    "pae.to_csv(\"output\\patAEs2.csv\",index=False)"
   ]
  },
  {
   "cell_type": "code",
   "execution_count": 8,
   "metadata": {},
   "outputs": [
    {
     "data": {
      "text/plain": [
       "PatentNumber    0\n",
       "nationality     0\n",
       "dtype: int64"
      ]
     },
     "execution_count": 8,
     "metadata": {},
     "output_type": "execute_result"
    }
   ],
   "source": [
    "pna=pd.read_csv(\"output\\patNations.csv\",index_col=0)\n",
    "pna.drop_duplicates(keep=\"first\",inplace=True)\n",
    "pna.isnull().sum()"
   ]
  },
  {
   "cell_type": "code",
   "execution_count": 9,
   "metadata": {},
   "outputs": [],
   "source": [
    "pna.to_csv(\"output\\patNations2.csv\",index=False)"
   ]
  },
  {
   "cell_type": "code",
   "execution_count": null,
   "metadata": {},
   "outputs": [],
   "source": []
  },
  {
   "cell_type": "code",
   "execution_count": null,
   "metadata": {},
   "outputs": [],
   "source": []
  },
  {
   "cell_type": "code",
   "execution_count": null,
   "metadata": {},
   "outputs": [],
   "source": []
  }
 ],
 "metadata": {
  "kernelspec": {
   "display_name": "Python 3",
   "language": "python",
   "name": "python3"
  },
  "language_info": {
   "codemirror_mode": {
    "name": "ipython",
    "version": 3
   },
   "file_extension": ".py",
   "mimetype": "text/x-python",
   "name": "python",
   "nbconvert_exporter": "python",
   "pygments_lexer": "ipython3",
   "version": "3.7.1"
  }
 },
 "nbformat": 4,
 "nbformat_minor": 2
}
